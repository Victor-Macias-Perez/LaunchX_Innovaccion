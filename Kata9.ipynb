{
 "cells": [
  {
   "cell_type": "markdown",
   "metadata": {},
   "source": [
    "Kata9"
   ]
  },
  {
   "cell_type": "markdown",
   "metadata": {},
   "source": [
    "Ejercicio 1 - Uso de funciones en Python\n"
   ]
  },
  {
   "cell_type": "markdown",
   "metadata": {},
   "source": [
    "Trabajar con argumentos en funciones"
   ]
  },
  {
   "cell_type": "code",
   "execution_count": 3,
   "metadata": {},
   "outputs": [],
   "source": [
    "# Función para leer 3 tanques de combustible y muestre el promedio\n",
    "\n",
    "def tanks_report(first_tank, second_tank, third_tank):\n",
    "    average = (first_tank + second_tank + third_tank) / 3\n",
    "    return f\"\"\"report:\n",
    "    average: {average}%\n",
    "    first tank: {first_tank}%\n",
    "    second tank: {second_tank}%\n",
    "    third tank: {third_tank}%\n",
    "    \"\"\"\n",
    "# Llamamos a la función que genera el reporte print(funcion(tanque1, tanque2, tanque3))\n",
    "\n",
    "print(tanks_report(80,70,85))\n",
    "\n",
    "# Función promedio \n",
    "\n",
    "def average(values):\n",
    "    total = sum(values)\n",
    "    number_of_items = len(values)\n",
    "    return total / number_of_items\n",
    "\n",
    "# Test the averaging function with a list of integers:\n",
    "\n",
    "print(average([80,70,85]))\n",
    "\n",
    "# Actualiza la función\n",
    "\n",
    "def tanks_report(first_tank, second_tank, third_tank):    \n",
    "    return f\"\"\"report:\n",
    "    average: {average([first_tank, second_tank, third_tank])}%\n",
    "    first tank: {first_tank}%\n",
    "    second tank: {second_tank}%\n",
    "    third tank: {third_tank}%\n",
    "    \"\"\"\n",
    "\n",
    "# Call the updated function again with different values\n",
    "\n",
    "print(tanks_report(88, 76, 70))"
   ]
  },
  {
   "cell_type": "markdown",
   "metadata": {},
   "source": [
    "Ejercicio 2 - Trabajo con argumentos de palabra clave"
   ]
  },
  {
   "cell_type": "markdown",
   "metadata": {},
   "source": [
    "Trabajar con argumentos de palabras clave en funciones"
   ]
  },
  {
   "cell_type": "code",
   "execution_count": 5,
   "metadata": {},
   "outputs": [
    {
     "name": "stdout",
     "output_type": "stream",
     "text": [
      "\n",
      "    Mission to Mars\n",
      "    Total travel time: 100 minutes\n",
      "    Total fuel left: 1000000 gallons\n",
      "    \n",
      "\n",
      "    Mission to Mars\n",
      "    Total travel time: 76 minutes\n",
      "    Total fuel left: 1000000\n",
      "    \n",
      "\n",
      "    Mission to Mars\n",
      "    Total travel time: 74 minutes\n",
      "    Total fuel left: 1000000\n",
      "    main tank --> 600000 gallons left\n",
      "external tank --> 400000 gallons left\n",
      "\n"
     ]
    }
   ],
   "source": [
    "# Función con un informe preciso de la misión. Considera hora de prelanzamiento, tiempo de vuelo, destino, tanque externo y tanque interno\n",
    "\n",
    "def mission_report(pre_time, flight_time, destination, external_tank, main_tank):\n",
    "    return f\"\"\"\n",
    "    Mission to {destination}\n",
    "    Total travel time: {pre_time + flight_time} minutes\n",
    "    Total fuel left: {external_tank + main_tank} gallons\n",
    "    \"\"\"\n",
    "\n",
    "print(mission_report(20, 80, \"Mars\", 400000, 600000))\n",
    "\n",
    "# Escribe tu nueva función de reporte considerando lo anterior\n",
    "\n",
    "def mission_report(destination, *minutes, **fuel_reservoirs):\n",
    "    return f\"\"\"\n",
    "    Mission to {destination}\n",
    "    Total travel time: {sum(minutes)} minutes\n",
    "    Total fuel left: {sum(fuel_reservoirs.values())}\n",
    "    \"\"\"\n",
    "\n",
    "print(mission_report(\"Mars\", 10, 15, 51, main=600000, external=400000))\n",
    "\n",
    "# Escribe tu nueva función\n",
    "\n",
    "def mission_report(destination, *minutes, **fuel_reservoirs):\n",
    "    main_report = f\"\"\"\n",
    "    Mission to {destination}\n",
    "    Total travel time: {sum(minutes)} minutes\n",
    "    Total fuel left: {sum(fuel_reservoirs.values())}\n",
    "    \"\"\"\n",
    "    for tank_name, gallons in fuel_reservoirs.items():\n",
    "        main_report += f\"{tank_name} tank --> {gallons} gallons left\\n\"\n",
    "    return main_report\n",
    "\n",
    "print(mission_report(\"Mars\", 8, 11, 55, main=600000, external=400000))"
   ]
  }
 ],
 "metadata": {
  "interpreter": {
   "hash": "b2173fb32197926bd6759662ed0ace482846edae9b88c240eda51119757a4413"
  },
  "kernelspec": {
   "display_name": "Python 3.10.1 ('env': venv)",
   "language": "python",
   "name": "python3"
  },
  "language_info": {
   "codemirror_mode": {
    "name": "ipython",
    "version": 3
   },
   "file_extension": ".py",
   "mimetype": "text/x-python",
   "name": "python",
   "nbconvert_exporter": "python",
   "pygments_lexer": "ipython3",
   "version": "3.10.1"
  },
  "orig_nbformat": 4
 },
 "nbformat": 4,
 "nbformat_minor": 2
}
