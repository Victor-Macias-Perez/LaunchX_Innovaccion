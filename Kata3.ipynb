{
 "cells": [
  {
   "cell_type": "markdown",
   "metadata": {},
   "source": [
    "Kata2"
   ]
  },
  {
   "cell_type": "markdown",
   "metadata": {},
   "source": [
    "Ejercicio - Escribir declaraciones if, else, y elif"
   ]
  },
  {
   "cell_type": "code",
   "execution_count": 1,
   "metadata": {},
   "outputs": [
    {
     "name": "stdout",
     "output_type": "stream",
     "text": [
      "Un asteroide se acerca a la Tierra a demasiada velocidad\n"
     ]
    }
   ],
   "source": [
    "# Ejercicio 1\n",
    "# si un asteroide se acerca a la Tierra demasiado rápido. \n",
    "# #La velocidad del asteroide varía dependiendo de lo cerca que esté del sol, y \n",
    "# #cualquier velocidad superior a 25 kilómetros por segundo (km/s) merece una advertencia.\n",
    "#Un asteroide se acerca, y viaja a una velocidad de 49 km/s.\n",
    "\n",
    "asteroid_vel = 49\n",
    "if asteroid_vel > 25:\n",
    "    print('watch out, an asteroid is coming to earth')\n",
    "else:\n",
    "    print('nothing interesting')"
   ]
  },
  {
   "cell_type": "code",
   "execution_count": 20,
   "metadata": {},
   "outputs": [
    {
     "name": "stdout",
     "output_type": "stream",
     "text": [
      "Sin novedades\n"
     ]
    }
   ],
   "source": [
    "# Ejercicio 2\n",
    "# Si un asteroide entra en la atmósfera de la Tierra a una velocidad mayor o igual a 20 km/s, \n",
    "# a veces produce un rayo de luz que se puede ver desde la Tierra. \n",
    "# Escribe la lógica condicional que usa declaraciones if, else, y elif para alertar a las personas de todo el mundo que deben buscar un asteroide en el cielo. \n",
    "# ¡Hay uno que se dirige a la tierra ahora a una velocidad de 19 km/s!\n",
    "\n",
    "asteroid_vel = 49\n",
    "if asteroid_vel == 20 or asteroid_vel > 20:\n",
    "    print('light beam in sight')\n",
    "else:\n",
    "    print('nothing interesting')"
   ]
  },
  {
   "cell_type": "markdown",
   "metadata": {},
   "source": [
    "Ejercicio - Uso de operadores and y or"
   ]
  },
  {
   "cell_type": "code",
   "execution_count": 27,
   "metadata": {},
   "outputs": [
    {
     "name": "stdout",
     "output_type": "stream",
     "text": [
      "Asteroide peligroso a la vista\n"
     ]
    }
   ],
   "source": [
    "# Ejercicio 3\n",
    "# *Los asteroides de menos de 25 metros en su dimensión más grande probablemente se quemarán a medida que entren en la atmósfera de la Tierra.\n",
    "    # Si una pieza de un asteroide que es más grande que 25 metros pero más pequeña que 1000 metros golpeara la Tierra, causaría mucho daño.\n",
    "    # La velocidad del asteroide varía en función de lo cerca que esté del sol, y cualquier velocidad superior a 25 kilómetros por segundo (km/s) merece una advertencia.\n",
    "    # Si un asteroide entra en la atmósfera de la Tierra a una velocidad mayor o igual a 20 km/s, a veces produce un rayo de luz que se puede ver desde la Tierra.\n",
    "\n",
    "asteroid_vel = 49\n",
    "asteroid_size = 49\n",
    "if asteroid_vel > 25 and asteroid_size > 25 and asteroid_size < 1000:\n",
    "    print('watch out, an asteroid is coming to earth')\n",
    "elif asteroid_vel >= 20:\n",
    "    print('light beam in sight')\n",
    "elif asteroid_size < 25:\n",
    "    print('nothing interesting')\n",
    "else:\n",
    "    print('nothing interesting')"
   ]
  }
 ],
 "metadata": {
  "interpreter": {
   "hash": "b2173fb32197926bd6759662ed0ace482846edae9b88c240eda51119757a4413"
  },
  "kernelspec": {
   "display_name": "Python 3.10.1 ('env': venv)",
   "language": "python",
   "name": "python3"
  },
  "language_info": {
   "codemirror_mode": {
    "name": "ipython",
    "version": 3
   },
   "file_extension": ".py",
   "mimetype": "text/x-python",
   "name": "python",
   "nbconvert_exporter": "python",
   "pygments_lexer": "ipython3",
   "version": "3.10.1"
  },
  "orig_nbformat": 4
 },
 "nbformat": 4,
 "nbformat_minor": 2
}
